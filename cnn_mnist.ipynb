{
 "cells": [
  {
   "cell_type": "code",
   "execution_count": 1,
   "id": "e669044e-9b07-447e-ae48-bdd8e20a8dfe",
   "metadata": {},
   "outputs": [
    {
     "name": "stderr",
     "output_type": "stream",
     "text": [
      "2023-07-27 21:53:02.771402: I tensorflow/tsl/cuda/cudart_stub.cc:28] Could not find cuda drivers on your machine, GPU will not be used.\n",
      "2023-07-27 21:53:02.805683: I tensorflow/tsl/cuda/cudart_stub.cc:28] Could not find cuda drivers on your machine, GPU will not be used.\n",
      "2023-07-27 21:53:02.806293: I tensorflow/core/platform/cpu_feature_guard.cc:182] This TensorFlow binary is optimized to use available CPU instructions in performance-critical operations.\n",
      "To enable the following instructions: AVX2 FMA, in other operations, rebuild TensorFlow with the appropriate compiler flags.\n",
      "2023-07-27 21:53:03.489067: W tensorflow/compiler/tf2tensorrt/utils/py_utils.cc:38] TF-TRT Warning: Could not find TensorRT\n"
     ]
    }
   ],
   "source": [
    "import tensorflow as tf\n",
    "from tensorflow.keras import layers \n",
    "from tensorflow.keras import models\n",
    "import imgaug.augmenters as iaa\n",
    "from sklearn.model_selection import train_test_split\n",
    "from sklearn.metrics import accuracy_score, precision_score, recall_score, f1_score\n",
    "import numpy as np"
   ]
  },
  {
   "cell_type": "code",
   "execution_count": 2,
   "id": "6395703f-e0d4-4dc6-a7d5-b12d18ccefa1",
   "metadata": {},
   "outputs": [],
   "source": [
    "(x_train, y_train), (x_test, y_test) = tf.keras.datasets.mnist.load_data()\n",
    "\n",
    "x_train = x_train.reshape(-1, 28, 28, 1)\n",
    "x_train = x_train.astype('float32')/255.0\n",
    "x_test = x_test.reshape(-1, 28, 28, 1)\n",
    "\n",
    "x_test = x_test.astype('float32')/255.0\n"
   ]
  },
  {
   "cell_type": "code",
   "execution_count": 3,
   "id": "19d8b4f8-91e3-4b2f-96c5-7f32cf9cd925",
   "metadata": {},
   "outputs": [],
   "source": [
    "x_train1, x_val, y_train1, y_val = train_test_split(x_train, y_train, test_size=0.1, random_state=42)\n"
   ]
  },
  {
   "cell_type": "code",
   "execution_count": 4,
   "id": "1b7646af-2c1e-417e-b65c-058a7456c984",
   "metadata": {},
   "outputs": [],
   "source": [
    "y_train1_categorical = tf.keras.utils.to_categorical(y_train1, num_classes=10)\n",
    "y_val_categorical = tf.keras.utils.to_categorical(y_val, num_classes=10)\n",
    "y_test_categorical = tf.keras.utils.to_categorical(y_test, num_classes=10)\n"
   ]
  },
  {
   "cell_type": "code",
   "execution_count": 5,
   "id": "74016f58-81f8-4cd3-920d-2de36d67fb97",
   "metadata": {},
   "outputs": [],
   "source": [
    "augmenter = iaa.Sequential([\n",
    "    iaa.GaussianBlur(sigma=(0, 1.0))\n",
    "])\n",
    "\n",
    "datagen = tf.keras.preprocessing.image.ImageDataGenerator(\n",
    "    rotation_range=10,\n",
    "    width_shift_range=0.1,\n",
    "    height_shift_range=0.1,\n",
    "    shear_range=10,\n",
    "    zoom_range=0.1,\n",
    "    horizontal_flip=True,\n",
    "    fill_mode='nearest',\n",
    "   preprocessing_function=augmenter.augment_image\n",
    ")\n",
    "\n",
    "datagen.fit(x_train1)\n"
   ]
  },
  {
   "cell_type": "code",
   "execution_count": 6,
   "id": "08ef6890-9b59-4c1f-807e-40c5933dbd38",
   "metadata": {},
   "outputs": [
    {
     "name": "stdout",
     "output_type": "stream",
     "text": [
      "Model: \"sequential\"\n",
      "_________________________________________________________________\n",
      " Layer (type)                Output Shape              Param #   \n",
      "=================================================================\n",
      " conv2d (Conv2D)             (None, 26, 26, 32)        320       \n",
      "                                                                 \n",
      " max_pooling2d (MaxPooling2  (None, 13, 13, 32)        0         \n",
      " D)                                                              \n",
      "                                                                 \n",
      " conv2d_1 (Conv2D)           (None, 11, 11, 64)        18496     \n",
      "                                                                 \n",
      " max_pooling2d_1 (MaxPoolin  (None, 5, 5, 64)          0         \n",
      " g2D)                                                            \n",
      "                                                                 \n",
      " conv2d_2 (Conv2D)           (None, 3, 3, 64)          36928     \n",
      "                                                                 \n",
      " flatten (Flatten)           (None, 576)               0         \n",
      "                                                                 \n",
      " dense (Dense)               (None, 64)                36928     \n",
      "                                                                 \n",
      " dense_1 (Dense)             (None, 10)                650       \n",
      "                                                                 \n",
      "=================================================================\n",
      "Total params: 93322 (364.54 KB)\n",
      "Trainable params: 93322 (364.54 KB)\n",
      "Non-trainable params: 0 (0.00 Byte)\n",
      "_________________________________________________________________\n"
     ]
    }
   ],
   "source": [
    "\n",
    "\n",
    "model = models.Sequential()\n",
    "model.add(layers.Conv2D(32,(3,3), activation='relu', input_shape = (28,28,1)))\n",
    "model.add(layers.MaxPooling2D((2,2)))\n",
    "model.add(layers.Conv2D(64,(3,3), activation='relu'))\n",
    "model.add(layers.MaxPooling2D((2,2)))\n",
    "model.add(layers.Conv2D(64,(3,3), activation='relu'))\n",
    "model.add(layers.Flatten())\n",
    "model.add(layers.Dense(64,activation = 'relu'))\n",
    "model.add(layers.Dense(10, activation= 'softmax'))\n",
    "\n",
    "model.summary()"
   ]
  },
  {
   "cell_type": "code",
   "execution_count": 7,
   "id": "fb9266c8-211e-4624-9d9d-af1d26e73cc9",
   "metadata": {},
   "outputs": [],
   "source": [
    "model.compile(optimizer='adam',\n",
    "              loss='categorical_crossentropy',\n",
    "              metrics=['accuracy'])"
   ]
  },
  {
   "cell_type": "code",
   "execution_count": 8,
   "id": "9cc19cfc-50df-4e76-b764-631ec10faae0",
   "metadata": {},
   "outputs": [],
   "source": [
    "#aug_pipeline = iaa.Sequential([\n",
    " #   iaa.SomeOf((0, 3), [\n",
    "   #     iaa.Fliplr(1.0),  # horizontally flip\n",
    "  #      iaa.Flipud(1.0),  # Vertical flip\n",
    "    #    iaa.Sharpen(alpha=(0, 1.0), lightness=(0.75, 1.5)),  # sharpen images\n",
    "     #   iaa.Crop(percent=(0, 0.4)),\n",
    "      #  iaa.Sometimes(0.5, iaa.Affine(rotate=5)),\n",
    "       # iaa.Sometimes(0.5, iaa.GaussianBlur(sigma=(0, 0.5))),\n",
    "        #iaa.AdditiveGaussianNoise(loc=0, scale=(0.0, 0.05 * 255), per_channel=0.5),\n",
    "    #])\n",
    "#],\n",
    "#random_order=True  \n",
    "#)\n",
    "#x_train_augmented = []\n",
    "#for image in x_train:\n",
    " #   augmented = aug_pipeline(image=image)*/\n",
    "  #  x_train_augmented.append(augmented['image'])"
   ]
  },
  {
   "cell_type": "code",
   "execution_count": null,
   "id": "938ae223-dc42-40dd-9916-7e9c7895abfb",
   "metadata": {},
   "outputs": [],
   "source": []
  },
  {
   "cell_type": "code",
   "execution_count": null,
   "id": "9f41df48-31aa-49b0-9aec-5a510fa49c86",
   "metadata": {},
   "outputs": [],
   "source": [
    "\n"
   ]
  },
  {
   "cell_type": "code",
   "execution_count": null,
   "id": "1a38433c-7918-448e-89a9-0030fd744917",
   "metadata": {},
   "outputs": [
    {
     "name": "stdout",
     "output_type": "stream",
     "text": [
      "Epoch 1/5\n",
      "1688/1688 [==============================] - 30s 18ms/step - loss: 0.5354 - accuracy: 0.8236 - val_loss: 0.1613 - val_accuracy: 0.9502\n",
      "Epoch 2/5\n",
      "1688/1688 [==============================] - 30s 18ms/step - loss: 0.2024 - accuracy: 0.9376 - val_loss: 0.0901 - val_accuracy: 0.9723\n",
      "Epoch 3/5\n",
      "1688/1688 [==============================] - 30s 18ms/step - loss: 0.1509 - accuracy: 0.9528 - val_loss: 0.0750 - val_accuracy: 0.9793\n",
      "Epoch 4/5\n",
      "1688/1688 [==============================] - 30s 18ms/step - loss: 0.1256 - accuracy: 0.9613 - val_loss: 0.0730 - val_accuracy: 0.9775\n",
      "Epoch 5/5\n",
      " 556/1688 [========>.....................] - ETA: 19s - loss: 0.1164 - accuracy: 0.9639"
     ]
    }
   ],
   "source": [
    "model.fit(datagen.flow(x_train1, y_train1_categorical,  batch_size=32),epochs=5,validation_data=(x_val, y_val_categorical))\n"
   ]
  },
  {
   "cell_type": "code",
   "execution_count": null,
   "id": "28e0c4ec-4f26-4f55-a3b0-d088100ede3b",
   "metadata": {},
   "outputs": [],
   "source": [
    "#test_loss, test_acc = model.evaluate(x_test, y_test_categorical)\n",
    "#print(f'Test accuracy: {test_acc}')\n",
    "\n"
   ]
  },
  {
   "cell_type": "code",
   "execution_count": null,
   "id": "237df8bc-9652-46e9-9eb7-79ffaa9d1662",
   "metadata": {},
   "outputs": [],
   "source": [
    "val_scores = model.evaluate(x_val, y_val_categorical, verbose=0)\n",
    "val_accuracy, val_loss = val_scores[1], val_scores[0]\n",
    "\n",
    "test_scores = model.evaluate(x_test, y_test_categorical, verbose=0)\n",
    "test_accuracy, test_loss = test_scores[1], test_scores[0]\n",
    "\n",
    "y_val_pred = model.predict(x_val)\n",
    "y_val_pred_labels = tf.argmax(y_val_pred, axis=1)\n",
    "val_precision = precision_score(tf.argmax(y_val_categorical, axis=1), y_val_pred_labels, average='weighted')\n",
    "val_recall = recall_score(tf.argmax(y_val_categorical, axis=1), y_val_pred_labels, average='weighted')\n",
    "val_f1 = f1_score(tf.argmax(y_val_categorical, axis=1), y_val_pred_labels, average='weighted')\n",
    "\n",
    "y_test_pred = model.predict(x_test)\n",
    "y_test_pred_labels = tf.argmax(y_test_pred, axis=1)\n",
    "test_precision = precision_score(tf.argmax(y_test_categorical, axis=1), y_test_pred_labels, average='weighted')\n",
    "test_recall = recall_score(tf.argmax(y_test_categorical, axis=1), y_test_pred_labels, average='weighted')\n",
    "test_f1 = f1_score(tf.argmax(y_test_categorical, axis=1), y_test_pred_labels, average='weighted')\n"
   ]
  },
  {
   "cell_type": "code",
   "execution_count": null,
   "id": "cb39774e-efe1-4360-a7f3-93bfd09e44eb",
   "metadata": {},
   "outputs": [],
   "source": [
    "print(f'Validation Accuracy: {val_accuracy:.4f}, Loss: {val_loss:.4f}, Precision: {val_precision:.4f}, Recall: {val_recall:.4f}, F1 Score: {val_f1:.4f}')\n",
    "print(f'Test Accuracy: {test_accuracy:.4f}, Loss: {test_loss:.4f}, Precision: {test_precision:.4f}, Recall: {test_recall:.4f}, F1 Score: {test_f1:.4f}')"
   ]
  },
  {
   "cell_type": "code",
   "execution_count": null,
   "id": "df18db40-836e-4508-8f37-3804855324d9",
   "metadata": {},
   "outputs": [],
   "source": []
  }
 ],
 "metadata": {
  "kernelspec": {
   "display_name": "Python 3 (ipykernel)",
   "language": "python",
   "name": "python3"
  },
  "language_info": {
   "codemirror_mode": {
    "name": "ipython",
    "version": 3
   },
   "file_extension": ".py",
   "mimetype": "text/x-python",
   "name": "python",
   "nbconvert_exporter": "python",
   "pygments_lexer": "ipython3",
   "version": "3.8.10"
  }
 },
 "nbformat": 4,
 "nbformat_minor": 5
}
