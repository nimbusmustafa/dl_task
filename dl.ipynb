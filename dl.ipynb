{
 "cells": [
  {
   "cell_type": "code",
   "execution_count": 1,
   "id": "1bbc5074-863f-42f0-96ad-ad2b3e2e3e9e",
   "metadata": {},
   "outputs": [
    {
     "name": "stderr",
     "output_type": "stream",
     "text": [
      "2023-07-27 16:26:01.862467: I tensorflow/tsl/cuda/cudart_stub.cc:28] Could not find cuda drivers on your machine, GPU will not be used.\n",
      "2023-07-27 16:26:01.896560: I tensorflow/tsl/cuda/cudart_stub.cc:28] Could not find cuda drivers on your machine, GPU will not be used.\n",
      "2023-07-27 16:26:01.897206: I tensorflow/core/platform/cpu_feature_guard.cc:182] This TensorFlow binary is optimized to use available CPU instructions in performance-critical operations.\n",
      "To enable the following instructions: AVX2 FMA, in other operations, rebuild TensorFlow with the appropriate compiler flags.\n",
      "2023-07-27 16:26:02.579574: W tensorflow/compiler/tf2tensorrt/utils/py_utils.cc:38] TF-TRT Warning: Could not find TensorRT\n"
     ]
    }
   ],
   "source": [
    "import tensorflow as tf\n",
    "from tensorflow.keras import layers, models\n",
    "from tensorflow.keras.datasets import mnist\n",
    "from sklearn.model_selection import train_test_split\n",
    "from sklearn.metrics import accuracy_score, precision_score, recall_score, f1_score\n",
    "import numpy as np\n",
    "import imgaug.augmenters as iaa\n",
    "\n",
    "\n"
   ]
  },
  {
   "cell_type": "code",
   "execution_count": 2,
   "id": "3ed9bc19-ae25-4d79-b591-586a52ebfa68",
   "metadata": {},
   "outputs": [],
   "source": [
    "\n",
    "(x_train, y_train), (x_test, y_test) = mnist.load_data()\n"
   ]
  },
  {
   "cell_type": "code",
   "execution_count": 3,
   "id": "8e87288e-3115-42e0-9fa6-1b9ac58b7437",
   "metadata": {},
   "outputs": [],
   "source": [
    "x_train = x_train.astype('float32') / 255.0\n",
    "x_test = x_test.astype('float32') / 255.0\n",
    "\n",
    "x_train, x_val, y_train, y_val = train_test_split(x_train, y_train, test_size=0.1, random_state=42)\n"
   ]
  },
  {
   "cell_type": "code",
   "execution_count": 4,
   "id": "081b404f-8dc8-401c-84c7-9bf819a1478c",
   "metadata": {},
   "outputs": [],
   "source": [
    "y_train = tf.keras.utils.to_categorical(y_train, num_classes=10)\n",
    "y_val = tf.keras.utils.to_categorical(y_val, num_classes=10)\n",
    "y_test = tf.keras.utils.to_categorical(y_test, num_classes=10)"
   ]
  },
  {
   "cell_type": "code",
   "execution_count": 5,
   "id": "b187f221-6411-4791-9a33-e9ec32b0787c",
   "metadata": {},
   "outputs": [],
   "source": [
    "augmenter = iaa.Sequential([\n",
    "    iaa.GaussianBlur(sigma=(0, 1.0))\n",
    "])\n",
    "\n",
    "datagen = tf.keras.preprocessing.image.ImageDataGenerator(\n",
    "    rotation_range=10,\n",
    "    width_shift_range=0.1,\n",
    "    height_shift_range=0.1,\n",
    "    shear_range=10,\n",
    "    zoom_range=0.1,\n",
    "    horizontal_flip=True,\n",
    "    fill_mode='nearest',\n",
    "   preprocessing_function=augmenter.augment_image\n",
    ")\n",
    "\n",
    "train_dataset = datagen.flow(x_train[..., np.newaxis], y_train, batch_size=64)\n",
    "\n",
    "val_dataset = tf.data.Dataset.from_tensor_slices((x_val[..., np.newaxis], y_val)).batch(64)\n",
    "test_dataset = tf.data.Dataset.from_tensor_slices((x_test[..., np.newaxis], y_test)).batch(64)\n",
    "\n",
    "\n"
   ]
  },
  {
   "cell_type": "code",
   "execution_count": 6,
   "id": "53b03614-f26c-4114-b4ef-175d981639b2",
   "metadata": {},
   "outputs": [],
   "source": [
    "model = models.Sequential([\n",
    "    layers.Flatten(input_shape=(28, 28, 1)),\n",
    "    layers.Dense(128, activation='relu'),\n",
    "    layers.Dense(64, activation='relu'),\n",
    "    layers.Dense(10, activation='softmax')\n",
    "])"
   ]
  },
  {
   "cell_type": "code",
   "execution_count": 7,
   "id": "c008d15a-55ca-4ebb-9a2c-4337f2bbe23b",
   "metadata": {},
   "outputs": [
    {
     "name": "stdout",
     "output_type": "stream",
     "text": [
      "Epoch 1/5\n",
      "844/844 [==============================] - 25s 30ms/step - loss: 0.7932 - accuracy: 0.7423 - val_loss: 0.3825 - val_accuracy: 0.8778\n",
      "Epoch 2/5\n",
      "844/844 [==============================] - 25s 29ms/step - loss: 0.4331 - accuracy: 0.8611 - val_loss: 0.2675 - val_accuracy: 0.9168\n",
      "Epoch 3/5\n",
      "844/844 [==============================] - 25s 30ms/step - loss: 0.3676 - accuracy: 0.8831 - val_loss: 0.2226 - val_accuracy: 0.9303\n",
      "Epoch 4/5\n",
      "844/844 [==============================] - 25s 30ms/step - loss: 0.3311 - accuracy: 0.8966 - val_loss: 0.2074 - val_accuracy: 0.9362\n",
      "Epoch 5/5\n",
      "844/844 [==============================] - 25s 30ms/step - loss: 0.3087 - accuracy: 0.9021 - val_loss: 0.2007 - val_accuracy: 0.9378\n"
     ]
    },
    {
     "data": {
      "text/plain": [
       "<keras.src.callbacks.History at 0x7f7cb9959880>"
      ]
     },
     "execution_count": 7,
     "metadata": {},
     "output_type": "execute_result"
    }
   ],
   "source": [
    "model.compile(optimizer='adam',\n",
    "              loss='categorical_crossentropy',\n",
    "              metrics=['accuracy'])\n",
    "\n",
    "model.fit(train_dataset, epochs=5, verbose=1, validation_data=val_dataset)\n"
   ]
  },
  {
   "cell_type": "code",
   "execution_count": 8,
   "id": "62cbef26-1215-4cc7-ad21-2620fa3ae42e",
   "metadata": {},
   "outputs": [
    {
     "name": "stdout",
     "output_type": "stream",
     "text": [
      "313/313 [==============================] - 0s 599us/step\n",
      "test accuracy: 0.9392\n",
      "test precision: 0.9405\n",
      "test recall: 0.9392\n",
      "test f1 Score: 0.9394\n"
     ]
    }
   ],
   "source": [
    "test_scores = model.evaluate(x_test, y_test, verbose=0)\n",
    "test_accuracy, test_loss = test_scores[1], test_scores[0]\n",
    "\n",
    "y_pred_probs = model.predict(x_test)\n",
    "y_pred = tf.argmax(y_pred_probs, axis=1)\n",
    "#y_pred = model.predict(x_test)\n",
    "\n",
    "#precision = precision_score(y_test, y_pred, average=None)\n",
    "#recall = recall_score(y_test, y_pred, average=None)\n",
    "#f1 = f1_score(y_test, y_pred, average=None)\n",
    "precision = precision_score(tf.argmax(y_test, axis=1), y_pred, average='weighted')\n",
    "recall = recall_score(tf.argmax(y_test, axis=1), y_pred, average='weighted')\n",
    "f1 = f1_score(tf.argmax(y_test, axis=1), y_pred, average='weighted')\n",
    "\n",
    "print(f\"test accuracy: {test_accuracy:.4f}\")\n",
    "print(f\"test precision: {precision:.4f}\")\n",
    "print(f\"test recall: {recall:.4f}\")\n",
    "print(f\"test f1 Score: {f1:.4f}\")"
   ]
  },
  {
   "cell_type": "code",
   "execution_count": 13,
   "id": "655f4526-25f8-40e2-abd1-31c9815227a7",
   "metadata": {},
   "outputs": [
    {
     "name": "stdout",
     "output_type": "stream",
     "text": [
      "188/188 [==============================] - 0s 635us/step\n",
      "val Accuracy: 0.9378\n",
      "val Precision: 0.9397\n",
      "val Recall: 0.9378\n",
      "val F1 Score: 0.9382\n"
     ]
    }
   ],
   "source": [
    "val_scores = model.evaluate(x_val, y_val, verbose=0)\n",
    "val_accuracy, val_loss = val_scores[1], val_scores[0]\n",
    "y_pred_probs = model.predict(x_val)\n",
    "y_pred = tf.argmax(y_pred_probs, axis=1)\n",
    "\n",
    "precision = precision_score(tf.argmax(y_val, axis=1), y_pred, average='weighted')\n",
    "recall = recall_score(tf.argmax(y_val, axis=1), y_pred, average='weighted')\n",
    "f1 = f1_score(tf.argmax(y_val, axis=1), y_pred, average='weighted')\n",
    "\n",
    "print(f\"val Accuracy: {val_accuracy:.4f}\")\n",
    "print(f\"val Precision: {precision:.4f}\")\n",
    "print(f\"val Recall: {recall:.4f}\")\n",
    "print(f\"val F1 Score: {f1:.4f}\")"
   ]
  }
 ],
 "metadata": {
  "kernelspec": {
   "display_name": "Python 3 (ipykernel)",
   "language": "python",
   "name": "python3"
  },
  "language_info": {
   "codemirror_mode": {
    "name": "ipython",
    "version": 3
   },
   "file_extension": ".py",
   "mimetype": "text/x-python",
   "name": "python",
   "nbconvert_exporter": "python",
   "pygments_lexer": "ipython3",
   "version": "3.8.10"
  }
 },
 "nbformat": 4,
 "nbformat_minor": 5
}
