{
 "cells": [
  {
   "cell_type": "code",
   "execution_count": 26,
   "id": "04ee7a41-8ea2-44be-886a-6b29a4bad6ae",
   "metadata": {},
   "outputs": [],
   "source": [
    "import tensorflow as tf\n",
    "from tensorflow.keras import layers \n",
    "from tensorflow.keras import models\n",
    "import imgaug.augmenters as iaa\n",
    "from sklearn.model_selection import train_test_split\n",
    "from sklearn.metrics import accuracy_score, precision_score, recall_score, f1_score\n",
    "import numpy as np\n",
    "from sklearn.metrics import classification_report\n",
    "from matplotlib import pyplot as plt\n",
    "\n",
    "import math"
   ]
  },
  {
   "cell_type": "code",
   "execution_count": 27,
   "id": "eb8d7912-6213-4c32-931f-e047fa0e6f1e",
   "metadata": {},
   "outputs": [
    {
     "name": "stdout",
     "output_type": "stream",
     "text": [
      "(60000, 28, 28, 1)\n",
      "(6000, 784)\n"
     ]
    }
   ],
   "source": [
    "(x_train, y_train), (x_test, y_test) = tf.keras.datasets.mnist.load_data()\n",
    "\n",
    "x_train = x_train.reshape(-1, 28, 28, 1) \n",
    "x_train = x_train.astype('float32')/255.0\n",
    "x_test = x_test.reshape(-1, 28, 28, 1)\n",
    "x_test = x_test.astype('float32')/255.0\n",
    "print(x_train.shape)\n",
    "x_train1, x_val, y_train1, y_val = train_test_split(x_train, y_train, test_size=0.1, random_state=42)\n",
    "y_train_categorical = tf.keras.utils.to_categorical(y_train1, num_classes=10)\n",
    "y_val_categorical = tf.keras.utils.to_categorical(y_val, num_classes=10)\n",
    "y_test_categorical = tf.keras.utils.to_categorical(y_test, num_classes=10)\n",
    "def flatten( X):\n",
    "        return X.reshape(X.shape[0], -1)#nx784\n",
    "\n",
    "x_train2= flatten(x_train1)\n",
    "x_test_flat=flatten(x_test)\n",
    "x_val_flat = flatten (x_val)\n",
    "print(x_val_flat.shape)"
   ]
  },
  {
   "cell_type": "code",
   "execution_count": 28,
   "id": "443f5379-233f-434b-b764-c8332b8aa7d9",
   "metadata": {},
   "outputs": [],
   "source": [
    "def to_categorical(y, num_classes):\n",
    "    category = np.zeros((len(y), num_classes))\n",
    "    \n",
    "    for i in range(len(y)):\n",
    "        category[i, y[i]] = 1\n",
    "        \n",
    "    return category\n",
    "\n",
    "num_classes = 10  \n",
    "y_train_categorical = to_categorical(y_train1, num_classes)\n",
    "y_val_categorical= to_categorical(y_val, num_classes)\n",
    "y_test_categorical= to_categorical(y_test, num_classes)\n",
    "\n"
   ]
  },
  {
   "cell_type": "code",
   "execution_count": 29,
   "id": "056227c8-ab78-48d2-808b-7ebfa998ef30",
   "metadata": {},
   "outputs": [],
   "source": [
    "def custom_augmentation(images):\n",
    "  augmenter = iaa.Sequential([\n",
    "    iaa.GaussianBlur(sigma=(0, 1.0)),\n",
    "    iaa.Affine(rotate=(-10, 10)),\n",
    "    iaa.Fliplr(0.5),\n",
    "    #iaa.Flipud(0.5),\n",
    "   # iaa.PerspectiveTransform(scale=(0.01, 0.15)) ,\n",
    "   # iaa.Affine(shear=(-10, 10)),\n",
    "   # iaa.Affine(scale={\"x\": (0.9, 1.1), \"y\": (0.9, 1.1)}),\n",
    "   # iaa.Crop(px=(0, 10))\n",
    "  ])\n",
    "  return augmenter.augment_images(images)\n",
    "\n",
    "x_train_augmented = custom_augmentation(x_train1)\n",
    "x_train_aug_flat=flatten(x_train_augmented)\n"
   ]
  },
  {
   "cell_type": "code",
   "execution_count": 30,
   "id": "f39bdd17",
   "metadata": {},
   "outputs": [],
   "source": [
    "def flatten( X):\n",
    "        return X.reshape(X.shape[0], -1)#nx784\n",
    "\n",
    "def initiate_parameters( input_shape, hiddenunits1, hiddenunits2, output_units):   \n",
    "\n",
    "        W1 = np.random.randn(input_shape[0], hiddenunits1) * np.sqrt(2 / (input_shape[0] + hiddenunits1))  #784x128\n",
    "        b1 = np.random.randn(1, hiddenunits1) * 0.01\n",
    "        W2 = np.random.randn(hiddenunits1, hiddenunits2) * np.sqrt(2 / (hiddenunits1 + hiddenunits2)) #128x64\n",
    "        b2 = np.random.randn(1, hiddenunits2) * 0.01\n",
    "        W3 = np.random.randn(hiddenunits2, output_units) *np.sqrt(2 / (hiddenunits2 + output_units)) #normal xavier initialisation          #64x10\n",
    "        b3 = np.random.randn(1, output_units) * 0.01\n",
    "        return W1,b1,W2,b2,W3,b3\n",
    "\n",
    "    \n",
    "def relu(x):\n",
    "        return np.maximum(0, x)\n",
    "def softmax(x):\n",
    "    exp_x = np.exp(x - np.max(x, axis=1, keepdims=True))\n",
    "    return exp_x / np.sum(exp_x, axis=1, keepdims=True)\n",
    "def ReLU_deriv(x):\n",
    "        return x > 0  \n",
    "       \n",
    "def forward(X_flattened,W1,b1,W2,b2,W3,b3):\n",
    "\n",
    "        Z1 = np.dot(X_flattened, W1) + b1 #nx784 dot 784x128=nx128 \n",
    "        A1 = relu(Z1)\n",
    "       \n",
    "        Z2 = np.dot(A1, W2) + b2 \n",
    "        A2 = relu(Z2)\n",
    "\n",
    "        Z3 = np.dot(A2, W3) + b3\n",
    "        #print(b3.shape) #nx10\n",
    "        A3 = softmax(Z3)\n",
    "        return Z1,A1,Z2,A2,Z3,A3\n",
    "\n",
    "def cross_entropy_loss(y_pred, y_true):\n",
    "    num_samples = y_pred.shape[0]\n",
    "    y_pred_clipped = np.clip(y_pred, 1e-7, 1 - 1e-7)  # Clip values to avoid division by zero\n",
    "    y_true_indices = np.argmax(y_true, axis=1)\n",
    "\n",
    "    log_likelihood = -np.log(y_pred_clipped[range(num_samples), y_true_indices])\n",
    "    loss = np.sum(log_likelihood) / num_samples\n",
    "    return loss\n",
    "\n",
    "\n",
    "    \n"
   ]
  },
  {
   "cell_type": "code",
   "execution_count": 31,
   "id": "81d916e2",
   "metadata": {},
   "outputs": [],
   "source": [
    "\n",
    "def backward_prop(input_shape,Z1, A1, Z2, A2,Z3,A3, W1, W2,W3, X, Y):\n",
    "       dZ3 = (A3 - Y)                                   #nx10\n",
    "       dW3 = (1 / input_shape[0]) *  np.dot(A2.T,dZ3)        #64x10\n",
    "       db3 = (1 / input_shape[0]) * np.sum(dZ3,axis=1,keepdims=True)\n",
    "       dZ2 = np.dot(dZ3,W3.T) * ReLU_deriv(Z2)    #nx64\n",
    "       dW2 = (1 / input_shape[0]) * np.dot(A1.T,dZ2) #128x64\n",
    "       db2 = (1 / input_shape[0]) * np.sum(dZ2)\n",
    "       dZ1 = np.dot(dZ2,W2.T) * ReLU_deriv(Z1) #nx128\n",
    "       dW1 = (1 / input_shape[0])* np.dot(X.T,dZ1) \n",
    "       db1 = (1 / input_shape[0]) * np.sum(dZ1)\n",
    "       return dW1, db1, dW2, db2,dW3,db3\n",
    "\n",
    "def update_params(W1, b1, W2, b2,W3,b3, dW1, db1, dW2, db2,dW3,db3, alpha):\n",
    "     W1 = W1 - alpha * dW1\n",
    "     b1 = b1 - alpha * db1    \n",
    "     W2 = W2 - alpha * dW2  \n",
    "     b2 = b2 - alpha * db2  \n",
    "     W3 = W3 - alpha * dW3  \n",
    "     b3 = b3 - alpha * db3   \n",
    "     return W1, b1, W2, b2 , W3, b3\n",
    "\n",
    "input_shape = (28 * 28, 1)\n",
    "hiddenunits1 = 128\n",
    "hiddenunits2 = 64\n",
    "output_units = 10"
   ]
  },
  {
   "cell_type": "code",
   "execution_count": 32,
   "id": "58c2bc3e",
   "metadata": {},
   "outputs": [
    {
     "name": "stdout",
     "output_type": "stream",
     "text": [
      "Iteration:  0\n",
      "loss:  2.3112383134625825\n",
      "Iteration:  10\n",
      "loss:  1.6802204364253444\n",
      "Iteration:  20\n",
      "loss:  1.1304538797369985\n",
      "Iteration:  30\n",
      "loss:  1.0096784202430114\n",
      "Iteration:  40\n",
      "loss:  0.9544631543365869\n",
      "Iteration:  50\n",
      "loss:  0.7910174351838499\n",
      "Iteration:  60\n",
      "loss:  0.7401654855154752\n",
      "Iteration:  70\n",
      "loss:  0.7012112960305387\n",
      "Iteration:  80\n",
      "loss:  0.6743783832198587\n",
      "Iteration:  90\n",
      "loss:  0.7179721165340088\n",
      "Iteration:  100\n",
      "loss:  0.6241219372651198\n",
      "Iteration:  110\n",
      "loss:  0.626080226268418\n",
      "Iteration:  120\n",
      "loss:  0.5976883482147944\n",
      "Iteration:  130\n",
      "loss:  0.586551899771636\n",
      "Iteration:  140\n",
      "loss:  0.572818861652843\n",
      "Iteration:  150\n",
      "loss:  0.5579886382108323\n",
      "Iteration:  160\n",
      "loss:  0.5468452961570124\n",
      "Iteration:  170\n",
      "loss:  0.5374873356198532\n",
      "Iteration:  180\n",
      "loss:  0.5284006643898322\n",
      "Iteration:  190\n",
      "loss:  0.5161165991498904\n",
      "Iteration:  200\n",
      "loss:  0.5044143750054517\n",
      "Iteration:  210\n",
      "loss:  0.4940915083421057\n",
      "Iteration:  220\n",
      "loss:  0.48461462847078474\n",
      "Iteration:  230\n",
      "loss:  0.47796642674640794\n",
      "Iteration:  240\n",
      "loss:  0.4814023336951813\n",
      "Iteration:  250\n",
      "loss:  0.4672713028786199\n",
      "Iteration:  260\n",
      "loss:  0.4553981298729449\n",
      "Iteration:  270\n",
      "loss:  0.44749197489477366\n",
      "Iteration:  280\n",
      "loss:  0.4404884396913002\n",
      "Iteration:  290\n",
      "loss:  0.43316753348026005\n",
      "Iteration:  300\n",
      "loss:  0.42582317103386774\n",
      "Iteration:  310\n",
      "loss:  0.4187701426735916\n",
      "Iteration:  320\n",
      "loss:  0.41216275816315634\n",
      "Iteration:  330\n",
      "loss:  0.40577133002223553\n",
      "Iteration:  340\n",
      "loss:  0.39949370919009175\n",
      "Iteration:  350\n",
      "loss:  0.3933098778791606\n",
      "Iteration:  360\n",
      "loss:  0.387231215307578\n",
      "Iteration:  370\n",
      "loss:  0.38133833712463794\n",
      "Iteration:  380\n",
      "loss:  0.375621096063358\n",
      "Iteration:  390\n",
      "loss:  0.37004226215770125\n",
      "Iteration:  400\n",
      "loss:  0.36466087664653574\n",
      "Iteration:  410\n",
      "loss:  0.35945692360352677\n",
      "Iteration:  420\n",
      "loss:  0.3543980397546638\n",
      "Iteration:  430\n",
      "loss:  0.34951337099584096\n",
      "Iteration:  440\n",
      "loss:  0.3448281880601195\n",
      "Iteration:  450\n",
      "loss:  0.3403102787378598\n",
      "Iteration:  460\n",
      "loss:  0.33597370291423834\n",
      "Iteration:  470\n",
      "loss:  0.3318075572847685\n",
      "Iteration:  480\n",
      "loss:  0.3277958271466768\n",
      "Iteration:  490\n",
      "loss:  0.3239333569212137\n",
      "Iteration:  500\n",
      "loss:  0.3202079316157387\n",
      "Iteration:  510\n",
      "loss:  0.3166053247663677\n",
      "Iteration:  520\n",
      "loss:  0.3131157433610561\n",
      "Iteration:  530\n",
      "loss:  0.30973460937259795\n",
      "Iteration:  540\n",
      "loss:  0.30645353697154387\n",
      "Iteration:  550\n",
      "loss:  0.30327408791891747\n",
      "Iteration:  560\n",
      "loss:  0.30018862323882556\n",
      "Iteration:  570\n",
      "loss:  0.2971885249519741\n",
      "Iteration:  580\n",
      "loss:  0.2942737936177129\n",
      "Iteration:  590\n",
      "loss:  0.2914419690632062\n",
      "Iteration:  600\n",
      "loss:  0.2886858483797979\n",
      "Iteration:  610\n",
      "loss:  0.2859987205105565\n",
      "Iteration:  620\n",
      "loss:  0.2833807602208994\n",
      "Iteration:  630\n",
      "loss:  0.28083116205236097\n",
      "Iteration:  640\n",
      "loss:  0.2783423881710388\n",
      "Iteration:  650\n",
      "loss:  0.27591408251916516\n",
      "Iteration:  660\n",
      "loss:  0.27354634010297685\n",
      "Iteration:  670\n",
      "loss:  0.271226821318946\n",
      "Iteration:  680\n",
      "loss:  0.2689563952542588\n",
      "Iteration:  690\n",
      "loss:  0.26673823873398783\n",
      "Iteration:  700\n",
      "loss:  0.2645677366028114\n",
      "Iteration:  710\n",
      "loss:  0.2624414010751189\n",
      "Iteration:  720\n",
      "loss:  0.26035799892831163\n",
      "Iteration:  730\n",
      "loss:  0.2583200348519677\n",
      "Iteration:  740\n",
      "loss:  0.25631872978437975\n"
     ]
    }
   ],
   "source": [
    "def get_predictions(A3):\n",
    "    return np.argmax(A3, 1)\n",
    "\n",
    "def get_accuracy(predictions, Y):\n",
    "    print(predictions, Y)\n",
    "    return np.mean(predictions == Y) \n",
    "\n",
    "\n",
    "def gradient_descent(X, Y, alpha, iterations):\n",
    "    W1, b1, W2, b2, W3, b3 = initiate_parameters(input_shape, hiddenunits1, hiddenunits2, output_units)\n",
    "    for i in range(iterations):\n",
    "        Z1, A1, Z2, A2, Z3, A3  = forward(X, W1, b1, W2, b2, W3, b3)\n",
    "        loss=cross_entropy_loss(A3,y_train_categorical)\n",
    "        dW1, db1, dW2, db2, dW3, db3 = backward_prop(input_shape,Z1, A1, Z2, A2, Z3, A3, W1, W2, W3, x_train_aug_flat, Y)\n",
    "       \n",
    "        W1, b1, W2, b2, W3, b3 = update_params(W1, b1, W2, b2,W3,b3,dW1, db1, dW2, db2,dW3,db3,alpha)\n",
    "        if i % 10 == 0:\n",
    "            print(\"Iteration: \", i)\n",
    "          # predictions = get_predictions(A3)\n",
    "            print(\"loss: \",loss)\n",
    "           \n",
    "           # print(\"b3 shape: \", b3.shape  )\n",
    "\n",
    "           \n",
    "                 \n",
    "    return W1, b1, W2, b2, W3,b3\n",
    "\n",
    "W11, b11, W21, b21 , W31, b31 = gradient_descent(x_train_aug_flat, y_train_categorical, 0.002, 750)\n"
   ]
  },
  {
   "cell_type": "code",
   "execution_count": 33,
   "id": "c8be233e",
   "metadata": {},
   "outputs": [
    {
     "name": "stdout",
     "output_type": "stream",
     "text": [
      "[7 2 1 ... 4 5 6] [7 2 1 ... 4 5 6]\n",
      "Testing Accuracy: 0.9261\n",
      "Prediction:  [7 2 1 ... 4 5 6]\n",
      "Label:  3\n"
     ]
    },
    {
     "data": {
      "image/png": "[encoded data removed]",
      "text/plain": [
       "<Figure size 640x480 with 1 Axes>"
      ]
     },
     "metadata": {},
     "output_type": "display_data"
    },
    {
     "name": "stdout",
     "output_type": "stream",
     "text": [
      "Prediction:  [7 2 1 ... 4 5 6]\n",
      "Label:  8\n"
     ]
    },
    {
     "data": {
      "image/png": "[encoded data removed]",
      "text/plain": [
       "<Figure size 640x480 with 1 Axes>"
      ]
     },
     "metadata": {},
     "output_type": "display_data"
    },
    {
     "name": "stdout",
     "output_type": "stream",
     "text": [
      "Prediction:  [7 2 1 ... 4 5 6]\n",
      "Label:  1\n"
     ]
    },
    {
     "data": {
      "image/png": "[encoded data removed]",
      "text/plain": [
       "<Figure size 640x480 with 1 Axes>"
      ]
     },
     "metadata": {},
     "output_type": "display_data"
    },
    {
     "name": "stdout",
     "output_type": "stream",
     "text": [
      "Prediction:  [7 2 1 ... 4 5 6]\n",
      "Label:  9\n"
     ]
    },
    {
     "data": {
      "image/png": "[encoded data removed]",
      "text/plain": [
       "<Figure size 640x480 with 1 Axes>"
      ]
     },
     "metadata": {},
     "output_type": "display_data"
    },
    {
     "name": "stdout",
     "output_type": "stream",
     "text": [
      "Prediction:  [7 2 1 ... 4 5 6]\n",
      "Label:  7\n"
     ]
    },
    {
     "data": {
      "image/png": "[encoded data removed]",
      "text/plain": [
       "<Figure size 640x480 with 1 Axes>"
      ]
     },
     "metadata": {},
     "output_type": "display_data"
    },
    {
     "name": "stdout",
     "output_type": "stream",
     "text": [
      "Prediction:  [7 2 1 ... 4 5 6]\n",
      "Label:  6\n"
     ]
    },
    {
     "data": {
      "image/png": "[encoded data removed]",
      "text/plain": [
       "<Figure size 640x480 with 1 Axes>"
      ]
     },
     "metadata": {},
     "output_type": "display_data"
    },
    {
     "name": "stdout",
     "output_type": "stream",
     "text": [
      "Prediction:  [7 2 1 ... 4 5 6]\n",
      "Label:  5\n"
     ]
    },
    {
     "data": {
      "image/png": "[encoded data removed]",
      "text/plain": [
       "<Figure size 640x480 with 1 Axes>"
      ]
     },
     "metadata": {},
     "output_type": "display_data"
    },
    {
     "name": "stdout",
     "output_type": "stream",
     "text": [
      "Prediction:  [7 2 1 ... 4 5 6]\n",
      "Label:  0\n"
     ]
    },
    {
     "data": {
      "image/png": "[encoded data removed]",
      "text/plain": [
       "<Figure size 640x480 with 1 Axes>"
      ]
     },
     "metadata": {},
     "output_type": "display_data"
    },
    {
     "name": "stdout",
     "output_type": "stream",
     "text": [
      "Prediction:  [7 2 1 ... 4 5 6]\n",
      "Label:  7\n"
     ]
    },
    {
     "data": {
      "image/png": "[encoded data removed]",
      "text/plain": [
       "<Figure size 640x480 with 1 Axes>"
      ]
     },
     "metadata": {},
     "output_type": "display_data"
    },
    {
     "name": "stdout",
     "output_type": "stream",
     "text": [
      "[7 3 8 ... 7 2 6] [7 3 8 ... 7 2 5]\n"
     ]
    }
   ],
   "source": [
    "def forward1(X_flattened, W1, b1, W2, b2, W3, b3):\n",
    "    n = X_flattened.shape[0]  \n",
    "    Z1 = np.dot(X_flattened, W1) + b1[:n, :]  # (nx hiddenunits1)\n",
    "    A1 = relu(Z1)\n",
    "\n",
    "    Z2 = np.dot(A1, W2) + b2[:n, :] \n",
    "    A2 = relu(Z2)\n",
    "\n",
    "    Z3 = np.dot(A2, W3) + b3[:n, :]  \n",
    "    A3 = softmax(Z3)\n",
    "\n",
    "    return Z1, A1, Z2, A2, Z3, A3\n",
    "\n",
    "#Z1_train, A1_train, Z2_train, A2_train, Z3_train, A3_train = forward(x_train_aug_flat, W11, b11, W21, b21, W31, b31)\n",
    "\n",
    "#predictions_train = get_predictions(A3_train)  \n",
    "#accuracy_train = get_accuracy(predictions_train, y_train1) \n",
    "#print(\"Training Accuracy:\", accuracy_train)\n",
    "\n",
    "Z1_test, A1_test, Z2_test, A2_test, Z3_test, A3_test = forward1(x_test_flat, W11, b11, W21, b21, W31, b31)\n",
    "\n",
    "predictions_test = get_predictions(A3_test)  \n",
    "accuracy_test = get_accuracy(predictions_test, y_test)  \n",
    "print(\"Testing Accuracy:\", accuracy_test)\n",
    "def make_predictions(x_test_flat, W1, b1, W2, b2,W3,b3):\n",
    "    _,_,_, _, _, A3_test = forward1(x_test_flat,W1, b1, W2, b2, W3,b3)\n",
    "    predictions = get_predictions(A3_test)\n",
    "    return predictions\n",
    "\n",
    "def test_prediction(index,A3_test):\n",
    "    current_image = x_train[ index,:, None]\n",
    "   # prediction = get_predictions(x_train[:, index, None], W1, b1, W2, b2,W3,b3)\n",
    "    predictions_test = get_predictions(A3_test)  \n",
    "\n",
    "    label = y_train[index]\n",
    "    print(\"Prediction: \", predictions_test)\n",
    "    print(\"Label: \", label)\n",
    "    \n",
    "    current_image = current_image.reshape(( 28, 28)) * 255\n",
    "    plt.gray()\n",
    "    plt.imshow(current_image, interpolation='nearest')\n",
    "    plt.show()\n",
    "\n",
    "test_prediction(10,A3_test)\n",
    "test_prediction(17, A3_test)\n",
    "test_prediction(23,A3_test)\n",
    "test_prediction(33,  A3_test)\n",
    "test_prediction(79,  A3_test)\n",
    "test_prediction(66,  A3_test)\n",
    "test_prediction(100,  A3_test)\n",
    "test_prediction(1,  A3_test)\n",
    "test_prediction(21000,  A3_test)\n",
    "\n",
    "\n",
    "\n",
    "Z1_val, A1_val, Z2_val, A2_val, Z3_val, A3_val = forward1(x_val_flat, W11, b11, W21, b21, W31, b31)\n",
    "\n",
    "predictions_val = get_predictions(A3_val)  \n",
    "accuracy_val = get_accuracy(predictions_val, y_val)  \n",
    "#print(\"Val Accuracy:\", accuracy_val)\n",
    "\n",
    "#report1 = classification_report(y_train1, predictions_train)\n",
    "\n",
    "#print(report1)\n",
    "\n",
    "report2 = classification_report(y_test, predictions_test)\n",
    "\n",
    "#print(report2)\n",
    "\n",
    "report3 = classification_report(y_val, predictions_val)\n",
    "\n",
    "#print(report3)"
   ]
  },
  {
   "cell_type": "code",
   "execution_count": null,
   "id": "77f344ee",
   "metadata": {},
   "outputs": [],
   "source": []
  }
 ],
 "metadata": {
  "kernelspec": {
   "display_name": "Python 3 (ipykernel)",
   "language": "python",
   "name": "python3"
  },
  "language_info": {
   "codemirror_mode": {
    "name": "ipython",
    "version": 3
   },
   "file_extension": ".py",
   "mimetype": "text/x-python",
   "name": "python",
   "nbconvert_exporter": "python",
   "pygments_lexer": "ipython3",
   "version": "3.8.10"
  }
 },
 "nbformat": 4,
 "nbformat_minor": 5
}
